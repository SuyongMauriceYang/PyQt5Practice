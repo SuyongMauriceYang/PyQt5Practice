{
 "cells": [
  {
   "cell_type": "code",
   "execution_count": 1,
   "metadata": {},
   "outputs": [],
   "source": [
    "import sys\n",
    "from PyQt5.QtWidgets import QApplication, QWidget, QPushButton, QToolTip, QMainWindow\n",
    "from PyQt5.QtGui import QIcon, QFont\n",
    "from PyQt5.QtCore import QCoreApplication"
   ]
  },
  {
   "cell_type": "code",
   "execution_count": null,
   "metadata": {},
   "outputs": [],
   "source": [
    "\n",
    "class MyApp(QMainWindow):\n",
    "\n",
    "    def __init__(self):\n",
    "        super().__init__()\n",
    "        self.initUI()\n",
    "\n",
    "    def initUI(self):\n",
    "        #QToolTip.setFont(QFont('SansSerif',10))\n",
    "        self.statusBar().showMessage('Ready')\n",
    "        self.setWindowTitle('Status bar')\n",
    "        #self.setToolTip('This is a <b>QWidget</b> widget')\n",
    "        #btn = QPushButton('Button',self)\n",
    "        #btn.setToolTip('This is a <b>QPushButton</b> widget')\n",
    "        #btn.move(50,50)\n",
    "        #btn.resize(btn.sizeHint())\n",
    "        #btn.clicked.connect(QCoreApplication.instance().quit)\n",
    "        #self.setWindowTitle('Tool tips')\n",
    "        #self.move(2400, 600)\n",
    "        #self.resize(400, 200)\n",
    "        #self.setWindowIcon(QIcon('beauty.jpg'))\n",
    "        self.setGeometry(500,500,500,200)\n",
    "        self.show()\n",
    "\n",
    "\n",
    "if __name__ == '__main__':\n",
    "   app = QApplication(sys.argv)\n",
    "   ex = MyApp()\n",
    "   sys.exit(app.exec_())"
   ]
  },
  {
   "cell_type": "code",
   "execution_count": null,
   "metadata": {},
   "outputs": [],
   "source": [
    "app"
   ]
  },
  {
   "cell_type": "code",
   "execution_count": null,
   "metadata": {},
   "outputs": [],
   "source": []
  }
 ],
 "metadata": {
  "kernelspec": {
   "display_name": "Python 3 (ipykernel)",
   "language": "python",
   "name": "python3"
  },
  "language_info": {
   "codemirror_mode": {
    "name": "ipython",
    "version": 3
   },
   "file_extension": ".py",
   "mimetype": "text/x-python",
   "name": "python",
   "nbconvert_exporter": "python",
   "pygments_lexer": "ipython3",
   "version": "3.7.3"
  }
 },
 "nbformat": 4,
 "nbformat_minor": 2
}
